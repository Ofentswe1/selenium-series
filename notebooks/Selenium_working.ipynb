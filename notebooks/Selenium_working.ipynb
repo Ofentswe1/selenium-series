{
 "cells": [
  {
   "cell_type": "markdown",
   "metadata": {},
   "source": [
    "# Download series Notebook\n",
    "**Notebook that uses selenium and geckodriver to download series on the O2TvSeries**\n",
    "* **O2TvSeries**  \n",
    "The only site to free download your all favorite english tv series and season in compatible mobile format (HD Mp4, Mp4 and 3gp), have fun downloading. click [here](http://o2tvseries.com/)\n",
    "![o2tvseries](http://o2tvseries.com/images/logo.jpg)  \n",
    "* **Selenium**   \n",
    "Selenium is a portable software-testing framework for web applications. Selenium provides a playback tool for authoring tests without the need to learn a test scripting language. click [here](http://www.seleniumhq.org/)\n",
    "![selenium](http://www.seleniumhq.org/images/big-logo.png)  \n",
    "* **geckodriver**  \n",
    "geckodriver is the next generation of the Selenium FirefoxDriver. It is supported by Marionette, the remote protocol of Gecko/Firefox. Marionette and geckodriver implement the W3C WebDriver standard, which is in a lot of areas is substantially different to Selenium WebDriver.click [here](https://github.com/mozilla/geckodriver)  \n",
    "There are other drivers to use, but this notebook uses on geckodriver see image below, don't worry about java on the image just replace it by python since we are using python  \n",
    "![geckodriver](https://bonigarcia.github.io/selenium-jupiter/img/webdriver-particular-schemas.png)"
   ]
  },
  {
   "cell_type": "markdown",
   "metadata": {},
   "source": [
    "## Load the modules\n",
    "___\n",
    "\n",
    "> To me, mathematics, computer science, and the arts are insanely related. \n",
    "> They're all creative expressions\n",
    "<cite>\n",
    ">Sebastian Thrun</cite>\n",
    "____\n",
    "> In much of computer science, I can easily 'auto-grade' your work and \n",
    "> give you an instant meaningful feedback. I can't do this when it comes\n",
    "> to the subtlety of human thought, language, poetry, philosophy. \n",
    "<cite>\n",
    "> Sebastian Thrun</cite>"
   ]
  },
  {
   "cell_type": "code",
   "execution_count": 1,
   "metadata": {
    "collapsed": true
   },
   "outputs": [],
   "source": [
    "import selenium\n",
    "from selenium import webdriver\n",
    "from selenium.webdriver.common.by import By\n",
    "import requests\n",
    "import os"
   ]
  },
  {
   "cell_type": "markdown",
   "metadata": {},
   "source": [
    "#### For now put the seasons and name of the series you want\n",
    "___\n",
    "\n",
    "> Life is a series of natural and spontaneous changes. Don't resist \n",
    "> them - that only creates sorrow. Let reality be reality. Let \n",
    "> things flow naturally forward in whatever way they like. \n",
    "<cite>\n",
    "> Lao Tzu</cite>"
   ]
  },
  {
   "cell_type": "code",
   "execution_count": 2,
   "metadata": {
    "collapsed": true
   },
   "outputs": [],
   "source": [
    "seasons = ['Season-01', 'Season-02','Season-03', 'Season-04']\n",
    "series = 'Silicon-Valley'"
   ]
  },
  {
   "cell_type": "markdown",
   "metadata": {},
   "source": [
    "The function below make a list of the episodes links and removes unneccesary links that we don't"
   ]
  },
  {
   "cell_type": "code",
   "execution_count": 3,
   "metadata": {
    "collapsed": true
   },
   "outputs": [],
   "source": [
    "def episodes_list(elements):\n",
    "    episodes = []\n",
    "    for element in elements:\n",
    "        if 'Episode' in element.get_attribute(\"href\"):\n",
    "            episodes.append(element.get_attribute(\"href\"))\n",
    "    return episodes"
   ]
  },
  {
   "cell_type": "markdown",
   "metadata": {},
   "source": [
    "The function below make a list of download links and removes unneccesary links that we don't and it only takes the videos that are HD only "
   ]
  },
  {
   "cell_type": "code",
   "execution_count": 4,
   "metadata": {
    "collapsed": true
   },
   "outputs": [],
   "source": [
    "def create_download_list(episodes, series, season):\n",
    "    download_list = []\n",
    "    print('Creating download links .... ....')\n",
    "    for episode in episodes:\n",
    "        per_episode = webdriver.Firefox(executable_path='geckodriver.exe')\n",
    "        per_episode.get(episode)\n",
    "        elem_episodes = per_episode.find_element_by_class_name('data_list').find_elements_by_xpath(\"//a[@href]\")\n",
    "        for elem_episode in elem_episodes:\n",
    "            if 'HD (TvShows4Mobile.Com).mp4' in elem_episode.text or '(O2TvSeries.Com).mp4' in elem_episode.text:\n",
    "                download_list.append('http://d5.o2tvseries.com/' + series.replace('-', '%20') + \n",
    "                                     '/' + series.replace('-', '%20').replace(' ', '%20') + '/' + elem_episode.text.replace(' ', '%20'))\n",
    "                print('Created url : ' + elem_episode.get_attribute('href').replace('http', 'https') + ' ' +elem_episode.text)\n",
    "        per_episode.close()\n",
    "    return download_list"
   ]
  },
  {
   "cell_type": "markdown",
   "metadata": {},
   "source": [
    "The function below downloads videos of the series"
   ]
  },
  {
   "cell_type": "code",
   "execution_count": 5,
   "metadata": {
    "collapsed": true
   },
   "outputs": [],
   "source": [
    "def download(download_list, series, season):\n",
    "    for download in download_list:\n",
    "        episode = download[-38:].replace('%20', ' ')\n",
    "        r = requests.get(download, allow_redirects=True)\n",
    "        open(series + '/' + season + '/' + episode, 'wb').write(r.content)\n",
    "        print('downloaded this Episode : ' + episode + ' of '+ season + ' of ' + series)"
   ]
  },
  {
   "cell_type": "markdown",
   "metadata": {},
   "source": [
    "#### This function combines all the function fron creating links to download"
   ]
  },
  {
   "cell_type": "code",
   "execution_count": 6,
   "metadata": {
    "collapsed": true
   },
   "outputs": [],
   "source": [
    "def create_and_download(seasons, series):\n",
    "    print('Creating and downloading episodes')\n",
    "    for season in seasons:\n",
    "        if not os.path.exists(series + '/' + season):\n",
    "            os.makedirs(series + '/' + season)\n",
    "        browser = webdriver.Firefox(executable_path='geckodriver.exe')\n",
    "        browser.get('http://o2tvseries.com/' + series + '-8/' + season + '/index.html')\n",
    "        elements = browser.find_element_by_class_name('data_list').find_elements_by_xpath(\"//a[@href]\")\n",
    "        episodes = episodes_list(elements)\n",
    "        download_list = create_download_list(episodes, series, season)\n",
    "        download(download_list, series, season)\n",
    "        browser.close()\n",
    "        print('Finished downloading: '+ season)\n",
    "    print('Finished downloaded all seasens and episodes!!!!')"
   ]
  },
  {
   "cell_type": "markdown",
   "metadata": {},
   "source": [
    "## Directory Structure\n",
    "create the parent directory of the series the structure will look like the below picture  \n",
    "![directory](../images/directory.png)"
   ]
  },
  {
   "cell_type": "code",
   "execution_count": 7,
   "metadata": {
    "collapsed": true
   },
   "outputs": [],
   "source": [
    "if not os.path.exists(series):\n",
    "    os.makedirs(series)"
   ]
  },
  {
   "cell_type": "code",
   "execution_count": 8,
   "metadata": {},
   "outputs": [
    {
     "name": "stdout",
     "output_type": "stream",
     "text": [
      "Creating and downloading episodes\n",
      "Creating download links .... ....\n",
      "Created url : https://o2tvseries.com/download/12556 Silicon Valley - S01E08 (O2TvSeries.Com).mp4\n",
      "Created url : https://o2tvseries.com/download/12410 Silicon Valley - S01E07 (O2TvSeries.Com).mp4\n",
      "Created url : https://o2tvseries.com/download/12408 Silicon Valley - S01E06 (O2TvSeries.Com).mp4\n",
      "Created url : https://o2tvseries.com/download/12406 Silicon Valley - S01E05 (O2TvSeries.Com).mp4\n",
      "Created url : https://o2tvseries.com/download/12404 Silicon Valley - S01E04 (O2TvSeries.Com).mp4\n",
      "Created url : https://o2tvseries.com/download/12402 Silicon Valley - S01E03 (O2TvSeries.Com).mp4\n",
      "Created url : https://o2tvseries.com/download/12400 Silicon Valley - S01E02 (O2TvSeries.Com).mp4\n",
      "Created url : https://o2tvseries.com/download/12398 Silicon Valley - S01E01 (O2TvSeries.Com).mp4\n",
      "downloaded this Episode : ey - S01E08 (O2TvSeries.Com).mp4 of Season-01 of Silicon-Valley\n",
      "downloaded this Episode : ey - S01E07 (O2TvSeries.Com).mp4 of Season-01 of Silicon-Valley\n",
      "downloaded this Episode : ey - S01E06 (O2TvSeries.Com).mp4 of Season-01 of Silicon-Valley\n",
      "downloaded this Episode : ey - S01E05 (O2TvSeries.Com).mp4 of Season-01 of Silicon-Valley\n",
      "downloaded this Episode : ey - S01E04 (O2TvSeries.Com).mp4 of Season-01 of Silicon-Valley\n",
      "downloaded this Episode : ey - S01E03 (O2TvSeries.Com).mp4 of Season-01 of Silicon-Valley\n",
      "downloaded this Episode : ey - S01E02 (O2TvSeries.Com).mp4 of Season-01 of Silicon-Valley\n",
      "downloaded this Episode : ey - S01E01 (O2TvSeries.Com).mp4 of Season-01 of Silicon-Valley\n",
      "Finished downloading: Season-01\n",
      "Creating download links .... ....\n",
      "Created url : https://o2tvseries.com/download/15738 Silicon Valley - S02E10 (O2TvSeries.Com).mp4\n",
      "Created url : https://o2tvseries.com/download/15668 Silicon Valley - S02E09 (O2TvSeries.Com).mp4\n",
      "Created url : https://o2tvseries.com/download/15592 Silicon Valley - S02E08 (O2TvSeries.Com).mp4\n",
      "Created url : https://o2tvseries.com/download/15568 Silicon Valley - S02E07 (O2TvSeries.Com).mp4\n",
      "Created url : https://o2tvseries.com/download/15534 Silicon Valley - S02E06 (O2TvSeries.Com).mp4\n",
      "Created url : https://o2tvseries.com/download/15462 Silicon Valley - S02E05 (O2TvSeries.Com).mp4\n",
      "Created url : https://o2tvseries.com/download/15380 Silicon Valley - S02E04 (O2TvSeries.Com).mp4\n",
      "Created url : https://o2tvseries.com/download/15306 Silicon Valley - S02E03 (O2TvSeries.Com).mp4\n",
      "Created url : https://o2tvseries.com/download/15234 Silicon Valley - S02E02 (O2TvSeries.Com).mp4\n",
      "Created url : https://o2tvseries.com/download/15230 Silicon Valley - S02E01 (O2TvSeries.Com).mp4\n",
      "downloaded this Episode : ey - S02E10 (O2TvSeries.Com).mp4 of Season-02 of Silicon-Valley\n",
      "downloaded this Episode : ey - S02E09 (O2TvSeries.Com).mp4 of Season-02 of Silicon-Valley\n",
      "downloaded this Episode : ey - S02E08 (O2TvSeries.Com).mp4 of Season-02 of Silicon-Valley\n",
      "downloaded this Episode : ey - S02E07 (O2TvSeries.Com).mp4 of Season-02 of Silicon-Valley\n",
      "downloaded this Episode : ey - S02E06 (O2TvSeries.Com).mp4 of Season-02 of Silicon-Valley\n",
      "downloaded this Episode : ey - S02E05 (O2TvSeries.Com).mp4 of Season-02 of Silicon-Valley\n",
      "downloaded this Episode : ey - S02E04 (O2TvSeries.Com).mp4 of Season-02 of Silicon-Valley\n",
      "downloaded this Episode : ey - S02E03 (O2TvSeries.Com).mp4 of Season-02 of Silicon-Valley\n",
      "downloaded this Episode : ey - S02E02 (O2TvSeries.Com).mp4 of Season-02 of Silicon-Valley\n",
      "downloaded this Episode : ey - S02E01 (O2TvSeries.Com).mp4 of Season-02 of Silicon-Valley\n",
      "Finished downloading: Season-02\n",
      "Creating download links .... ....\n",
      "Finished downloading: Season-03\n",
      "Creating download links .... ....\n",
      "Created url : https://o2tvseries.com/download/35149 Silicon Valley - S04E10 HD (TvShows4Mobile.Com).mp4\n",
      "Created url : https://o2tvseries.com/download/35101 Silicon Valley - S04E09 HD (TvShows4Mobile.Com).mp4\n",
      "Created url : https://o2tvseries.com/download/41041 Silicon Valley - S04E08 HD (TvShows4Mobile.Com).mp4\n",
      "Created url : https://o2tvseries.com/download/34772 Silicon Valley - S04E07 HD (TvShows4Mobile.Com).mp4\n",
      "Created url : https://o2tvseries.com/download/34640 Silicon Valley - S04E06 HD (TvShows4Mobile.Com).mp4\n",
      "Created url : https://o2tvseries.com/download/34571 Silicon Valley - S04E05 HD (TvShows4Mobile.Com).mp4\n",
      "Created url : https://o2tvseries.com/download/34424 Silicon Valley - S04E04 HD (TvShows4Mobile.Com).mp4\n",
      "Created url : https://o2tvseries.com/download/33949 Silicon Valley - S04E03 HD (TvShows4Mobile.Com).mp4\n",
      "Created url : https://o2tvseries.com/download/32235 Silicon Valley - S04E02 HD (TvShows4Mobile.Com).mp4\n",
      "Created url : https://o2tvseries.com/download/32085 Silicon Valley - S04E01 HD (TvShows4Mobile.Com).mp4\n",
      "downloaded this Episode : S04E10 HD (TvShows4Mobile.Com).mp4 of Season-04 of Silicon-Valley\n",
      "downloaded this Episode : S04E09 HD (TvShows4Mobile.Com).mp4 of Season-04 of Silicon-Valley\n",
      "downloaded this Episode : S04E08 HD (TvShows4Mobile.Com).mp4 of Season-04 of Silicon-Valley\n",
      "downloaded this Episode : S04E07 HD (TvShows4Mobile.Com).mp4 of Season-04 of Silicon-Valley\n",
      "downloaded this Episode : S04E06 HD (TvShows4Mobile.Com).mp4 of Season-04 of Silicon-Valley\n",
      "downloaded this Episode : S04E05 HD (TvShows4Mobile.Com).mp4 of Season-04 of Silicon-Valley\n",
      "downloaded this Episode : S04E04 HD (TvShows4Mobile.Com).mp4 of Season-04 of Silicon-Valley\n",
      "downloaded this Episode : S04E03 HD (TvShows4Mobile.Com).mp4 of Season-04 of Silicon-Valley\n",
      "downloaded this Episode : S04E02 HD (TvShows4Mobile.Com).mp4 of Season-04 of Silicon-Valley\n",
      "downloaded this Episode : S04E01 HD (TvShows4Mobile.Com).mp4 of Season-04 of Silicon-Valley\n",
      "Finished downloading: Season-04\n",
      "Finished downloaded all seasens and episodes!!!!\n"
     ]
    }
   ],
   "source": [
    "create_and_download(seasons, series)"
   ]
  },
  {
   "cell_type": "markdown",
   "metadata": {
    "collapsed": true
   },
   "source": [
    "### You can add More"
   ]
  }
 ],
 "metadata": {
  "kernelspec": {
   "display_name": "Python 3",
   "language": "python",
   "name": "python3"
  },
  "language_info": {
   "codemirror_mode": {
    "name": "ipython",
    "version": 3
   },
   "file_extension": ".py",
   "mimetype": "text/x-python",
   "name": "python",
   "nbconvert_exporter": "python",
   "pygments_lexer": "ipython3",
   "version": "3.6.3"
  }
 },
 "nbformat": 4,
 "nbformat_minor": 2
}
